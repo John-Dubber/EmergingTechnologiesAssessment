{
 "cells": [
  {
   "cell_type": "markdown",
   "id": "8b86b072-c242-4141-a4d0-1b577d728ac1",
   "metadata": {},
   "source": [
    "# Setup\n",
    "  # P. Cortez, A. Cerdeira, F. Almeida, T. Matos and J. Reis. \n",
    "  # Modeling wine preferences by data mining from physicochemical properties.\n",
    "  # In Decision Support Systems>, Elsevier, 47(4):547-553. ISSN: 0167-9236.\n",
    "***"
   ]
  },
  {
   "cell_type": "code",
   "execution_count": 1,
   "id": "0878b58d-b114-4b62-94a6-89d82f1e04f9",
   "metadata": {},
   "outputs": [],
   "source": [
    "# Numerical arrays.\n",
    "import numpy as np\n",
    "\n",
    "# Data frames.\n",
    "import pandas as pd\n",
    "\n",
    "# Plotting.\n",
    "import matplotlib.pyplot as plt\n",
    "\n",
    "# Logistic regression.\n",
    "import sklearn.linear_model as lm\n",
    "\n",
    "# K nearest neaighbours.\n",
    "import sklearn.neighbors as nei\n",
    "\n",
    "# Helper functions.\n",
    "import sklearn.model_selection as mod\n",
    "\n",
    "# Fancier, statistical plots.\n",
    "import seaborn as sns"
   ]
  },
  {
   "cell_type": "code",
   "execution_count": 2,
   "id": "98d8db90-de42-49eb-86e4-44be950709a4",
   "metadata": {},
   "outputs": [],
   "source": [
    "#standard plot size\n",
    "plt.rcParams['figure.figsize'] = (15,10)\n",
    "\n",
    "# Standard colour scheme.\n",
    "plt.style.use('ggplot')"
   ]
  },
  {
   "cell_type": "code",
   "execution_count": 3,
   "id": "0afb14f6-1285-44fb-af6e-cefd52e77499",
   "metadata": {},
   "outputs": [],
   "source": [
    "# Load in the red wine data from the url\n",
    "df = pd.read_csv(\"https://raw.githubusercontent.com/John-Dubber/EmergingTechnologiesAssessment/main/winequality/winequality-red.csv\")"
   ]
  },
  {
   "cell_type": "code",
   "execution_count": 4,
   "id": "42fe28d4-df5d-4e79-9130-81c5d2233d80",
   "metadata": {},
   "outputs": [
    {
     "data": {
      "text/html": [
       "<div>\n",
       "<style scoped>\n",
       "    .dataframe tbody tr th:only-of-type {\n",
       "        vertical-align: middle;\n",
       "    }\n",
       "\n",
       "    .dataframe tbody tr th {\n",
       "        vertical-align: top;\n",
       "    }\n",
       "\n",
       "    .dataframe thead th {\n",
       "        text-align: right;\n",
       "    }\n",
       "</style>\n",
       "<table border=\"1\" class=\"dataframe\">\n",
       "  <thead>\n",
       "    <tr style=\"text-align: right;\">\n",
       "      <th></th>\n",
       "      <th>fixed_acidity</th>\n",
       "      <th>volatile_acidity</th>\n",
       "      <th>citric_acid</th>\n",
       "      <th>residual_sugar</th>\n",
       "      <th>chlorides</th>\n",
       "      <th>free_sulfur_dioxide</th>\n",
       "      <th>total_sulfur_dioxide</th>\n",
       "      <th>density</th>\n",
       "      <th>pH</th>\n",
       "      <th>sulphates</th>\n",
       "      <th>alcohol</th>\n",
       "      <th>quality</th>\n",
       "    </tr>\n",
       "  </thead>\n",
       "  <tbody>\n",
       "    <tr>\n",
       "      <th>0</th>\n",
       "      <td>7.4</td>\n",
       "      <td>0.700</td>\n",
       "      <td>0.00</td>\n",
       "      <td>1.9</td>\n",
       "      <td>0.076</td>\n",
       "      <td>11.0</td>\n",
       "      <td>34.0</td>\n",
       "      <td>0.99780</td>\n",
       "      <td>3.51</td>\n",
       "      <td>0.56</td>\n",
       "      <td>9.4</td>\n",
       "      <td>5</td>\n",
       "    </tr>\n",
       "    <tr>\n",
       "      <th>1</th>\n",
       "      <td>7.8</td>\n",
       "      <td>0.880</td>\n",
       "      <td>0.00</td>\n",
       "      <td>2.6</td>\n",
       "      <td>0.098</td>\n",
       "      <td>25.0</td>\n",
       "      <td>67.0</td>\n",
       "      <td>0.99680</td>\n",
       "      <td>3.20</td>\n",
       "      <td>0.68</td>\n",
       "      <td>9.8</td>\n",
       "      <td>5</td>\n",
       "    </tr>\n",
       "    <tr>\n",
       "      <th>2</th>\n",
       "      <td>7.8</td>\n",
       "      <td>0.760</td>\n",
       "      <td>0.04</td>\n",
       "      <td>2.3</td>\n",
       "      <td>0.092</td>\n",
       "      <td>15.0</td>\n",
       "      <td>54.0</td>\n",
       "      <td>0.99700</td>\n",
       "      <td>3.26</td>\n",
       "      <td>0.65</td>\n",
       "      <td>9.8</td>\n",
       "      <td>5</td>\n",
       "    </tr>\n",
       "    <tr>\n",
       "      <th>3</th>\n",
       "      <td>11.2</td>\n",
       "      <td>0.280</td>\n",
       "      <td>0.56</td>\n",
       "      <td>1.9</td>\n",
       "      <td>0.075</td>\n",
       "      <td>17.0</td>\n",
       "      <td>60.0</td>\n",
       "      <td>0.99800</td>\n",
       "      <td>3.16</td>\n",
       "      <td>0.58</td>\n",
       "      <td>9.8</td>\n",
       "      <td>6</td>\n",
       "    </tr>\n",
       "    <tr>\n",
       "      <th>4</th>\n",
       "      <td>7.4</td>\n",
       "      <td>0.700</td>\n",
       "      <td>0.00</td>\n",
       "      <td>1.9</td>\n",
       "      <td>0.076</td>\n",
       "      <td>11.0</td>\n",
       "      <td>34.0</td>\n",
       "      <td>0.99780</td>\n",
       "      <td>3.51</td>\n",
       "      <td>0.56</td>\n",
       "      <td>9.4</td>\n",
       "      <td>5</td>\n",
       "    </tr>\n",
       "    <tr>\n",
       "      <th>...</th>\n",
       "      <td>...</td>\n",
       "      <td>...</td>\n",
       "      <td>...</td>\n",
       "      <td>...</td>\n",
       "      <td>...</td>\n",
       "      <td>...</td>\n",
       "      <td>...</td>\n",
       "      <td>...</td>\n",
       "      <td>...</td>\n",
       "      <td>...</td>\n",
       "      <td>...</td>\n",
       "      <td>...</td>\n",
       "    </tr>\n",
       "    <tr>\n",
       "      <th>1594</th>\n",
       "      <td>6.2</td>\n",
       "      <td>0.600</td>\n",
       "      <td>0.08</td>\n",
       "      <td>2.0</td>\n",
       "      <td>0.090</td>\n",
       "      <td>32.0</td>\n",
       "      <td>44.0</td>\n",
       "      <td>0.99490</td>\n",
       "      <td>3.45</td>\n",
       "      <td>0.58</td>\n",
       "      <td>10.5</td>\n",
       "      <td>5</td>\n",
       "    </tr>\n",
       "    <tr>\n",
       "      <th>1595</th>\n",
       "      <td>5.9</td>\n",
       "      <td>0.550</td>\n",
       "      <td>0.10</td>\n",
       "      <td>2.2</td>\n",
       "      <td>0.062</td>\n",
       "      <td>39.0</td>\n",
       "      <td>51.0</td>\n",
       "      <td>0.99512</td>\n",
       "      <td>3.52</td>\n",
       "      <td>0.76</td>\n",
       "      <td>11.2</td>\n",
       "      <td>6</td>\n",
       "    </tr>\n",
       "    <tr>\n",
       "      <th>1596</th>\n",
       "      <td>6.3</td>\n",
       "      <td>0.510</td>\n",
       "      <td>0.13</td>\n",
       "      <td>2.3</td>\n",
       "      <td>0.076</td>\n",
       "      <td>29.0</td>\n",
       "      <td>40.0</td>\n",
       "      <td>0.99574</td>\n",
       "      <td>3.42</td>\n",
       "      <td>0.75</td>\n",
       "      <td>11.0</td>\n",
       "      <td>6</td>\n",
       "    </tr>\n",
       "    <tr>\n",
       "      <th>1597</th>\n",
       "      <td>5.9</td>\n",
       "      <td>0.645</td>\n",
       "      <td>0.12</td>\n",
       "      <td>2.0</td>\n",
       "      <td>0.075</td>\n",
       "      <td>32.0</td>\n",
       "      <td>44.0</td>\n",
       "      <td>0.99547</td>\n",
       "      <td>3.57</td>\n",
       "      <td>0.71</td>\n",
       "      <td>10.2</td>\n",
       "      <td>5</td>\n",
       "    </tr>\n",
       "    <tr>\n",
       "      <th>1598</th>\n",
       "      <td>6.0</td>\n",
       "      <td>0.310</td>\n",
       "      <td>0.47</td>\n",
       "      <td>3.6</td>\n",
       "      <td>0.067</td>\n",
       "      <td>18.0</td>\n",
       "      <td>42.0</td>\n",
       "      <td>0.99549</td>\n",
       "      <td>3.39</td>\n",
       "      <td>0.66</td>\n",
       "      <td>11.0</td>\n",
       "      <td>6</td>\n",
       "    </tr>\n",
       "  </tbody>\n",
       "</table>\n",
       "<p>1599 rows × 12 columns</p>\n",
       "</div>"
      ],
      "text/plain": [
       "      fixed_acidity  volatile_acidity  citric_acid  residual_sugar  chlorides  \\\n",
       "0               7.4             0.700         0.00             1.9      0.076   \n",
       "1               7.8             0.880         0.00             2.6      0.098   \n",
       "2               7.8             0.760         0.04             2.3      0.092   \n",
       "3              11.2             0.280         0.56             1.9      0.075   \n",
       "4               7.4             0.700         0.00             1.9      0.076   \n",
       "...             ...               ...          ...             ...        ...   \n",
       "1594            6.2             0.600         0.08             2.0      0.090   \n",
       "1595            5.9             0.550         0.10             2.2      0.062   \n",
       "1596            6.3             0.510         0.13             2.3      0.076   \n",
       "1597            5.9             0.645         0.12             2.0      0.075   \n",
       "1598            6.0             0.310         0.47             3.6      0.067   \n",
       "\n",
       "      free_sulfur_dioxide  total_sulfur_dioxide  density    pH  sulphates  \\\n",
       "0                    11.0                  34.0  0.99780  3.51       0.56   \n",
       "1                    25.0                  67.0  0.99680  3.20       0.68   \n",
       "2                    15.0                  54.0  0.99700  3.26       0.65   \n",
       "3                    17.0                  60.0  0.99800  3.16       0.58   \n",
       "4                    11.0                  34.0  0.99780  3.51       0.56   \n",
       "...                   ...                   ...      ...   ...        ...   \n",
       "1594                 32.0                  44.0  0.99490  3.45       0.58   \n",
       "1595                 39.0                  51.0  0.99512  3.52       0.76   \n",
       "1596                 29.0                  40.0  0.99574  3.42       0.75   \n",
       "1597                 32.0                  44.0  0.99547  3.57       0.71   \n",
       "1598                 18.0                  42.0  0.99549  3.39       0.66   \n",
       "\n",
       "      alcohol  quality  \n",
       "0         9.4        5  \n",
       "1         9.8        5  \n",
       "2         9.8        5  \n",
       "3         9.8        6  \n",
       "4         9.4        5  \n",
       "...       ...      ...  \n",
       "1594     10.5        5  \n",
       "1595     11.2        6  \n",
       "1596     11.0        6  \n",
       "1597     10.2        5  \n",
       "1598     11.0        6  \n",
       "\n",
       "[1599 rows x 12 columns]"
      ]
     },
     "execution_count": 4,
     "metadata": {},
     "output_type": "execute_result"
    }
   ],
   "source": [
    "# Check out what the data looks like\n",
    "df"
   ]
  },
  {
   "cell_type": "code",
   "execution_count": 5,
   "id": "0b29df4d-3068-4196-a037-68573b193120",
   "metadata": {},
   "outputs": [
    {
     "data": {
      "text/html": [
       "<div>\n",
       "<style scoped>\n",
       "    .dataframe tbody tr th:only-of-type {\n",
       "        vertical-align: middle;\n",
       "    }\n",
       "\n",
       "    .dataframe tbody tr th {\n",
       "        vertical-align: top;\n",
       "    }\n",
       "\n",
       "    .dataframe thead th {\n",
       "        text-align: right;\n",
       "    }\n",
       "</style>\n",
       "<table border=\"1\" class=\"dataframe\">\n",
       "  <thead>\n",
       "    <tr style=\"text-align: right;\">\n",
       "      <th></th>\n",
       "      <th>fixed_acidity</th>\n",
       "      <th>volatile_acidity</th>\n",
       "      <th>citric_acid</th>\n",
       "      <th>residual_sugar</th>\n",
       "      <th>chlorides</th>\n",
       "      <th>free_sulfur_dioxide</th>\n",
       "      <th>total_sulfur_dioxide</th>\n",
       "      <th>density</th>\n",
       "      <th>pH</th>\n",
       "      <th>sulphates</th>\n",
       "      <th>alcohol</th>\n",
       "      <th>quality</th>\n",
       "    </tr>\n",
       "  </thead>\n",
       "  <tbody>\n",
       "    <tr>\n",
       "      <th>count</th>\n",
       "      <td>1599.000000</td>\n",
       "      <td>1599.000000</td>\n",
       "      <td>1599.000000</td>\n",
       "      <td>1599.000000</td>\n",
       "      <td>1599.000000</td>\n",
       "      <td>1599.000000</td>\n",
       "      <td>1599.000000</td>\n",
       "      <td>1599.000000</td>\n",
       "      <td>1599.000000</td>\n",
       "      <td>1599.000000</td>\n",
       "      <td>1599.000000</td>\n",
       "      <td>1599.000000</td>\n",
       "    </tr>\n",
       "    <tr>\n",
       "      <th>mean</th>\n",
       "      <td>8.319637</td>\n",
       "      <td>0.527821</td>\n",
       "      <td>0.270976</td>\n",
       "      <td>2.538806</td>\n",
       "      <td>0.087467</td>\n",
       "      <td>15.874922</td>\n",
       "      <td>46.467792</td>\n",
       "      <td>0.996747</td>\n",
       "      <td>3.311113</td>\n",
       "      <td>0.658149</td>\n",
       "      <td>10.422983</td>\n",
       "      <td>5.636023</td>\n",
       "    </tr>\n",
       "    <tr>\n",
       "      <th>std</th>\n",
       "      <td>1.741096</td>\n",
       "      <td>0.179060</td>\n",
       "      <td>0.194801</td>\n",
       "      <td>1.409928</td>\n",
       "      <td>0.047065</td>\n",
       "      <td>10.460157</td>\n",
       "      <td>32.895324</td>\n",
       "      <td>0.001887</td>\n",
       "      <td>0.154386</td>\n",
       "      <td>0.169507</td>\n",
       "      <td>1.065668</td>\n",
       "      <td>0.807569</td>\n",
       "    </tr>\n",
       "    <tr>\n",
       "      <th>min</th>\n",
       "      <td>4.600000</td>\n",
       "      <td>0.120000</td>\n",
       "      <td>0.000000</td>\n",
       "      <td>0.900000</td>\n",
       "      <td>0.012000</td>\n",
       "      <td>1.000000</td>\n",
       "      <td>6.000000</td>\n",
       "      <td>0.990070</td>\n",
       "      <td>2.740000</td>\n",
       "      <td>0.330000</td>\n",
       "      <td>8.400000</td>\n",
       "      <td>3.000000</td>\n",
       "    </tr>\n",
       "    <tr>\n",
       "      <th>25%</th>\n",
       "      <td>7.100000</td>\n",
       "      <td>0.390000</td>\n",
       "      <td>0.090000</td>\n",
       "      <td>1.900000</td>\n",
       "      <td>0.070000</td>\n",
       "      <td>7.000000</td>\n",
       "      <td>22.000000</td>\n",
       "      <td>0.995600</td>\n",
       "      <td>3.210000</td>\n",
       "      <td>0.550000</td>\n",
       "      <td>9.500000</td>\n",
       "      <td>5.000000</td>\n",
       "    </tr>\n",
       "    <tr>\n",
       "      <th>50%</th>\n",
       "      <td>7.900000</td>\n",
       "      <td>0.520000</td>\n",
       "      <td>0.260000</td>\n",
       "      <td>2.200000</td>\n",
       "      <td>0.079000</td>\n",
       "      <td>14.000000</td>\n",
       "      <td>38.000000</td>\n",
       "      <td>0.996750</td>\n",
       "      <td>3.310000</td>\n",
       "      <td>0.620000</td>\n",
       "      <td>10.200000</td>\n",
       "      <td>6.000000</td>\n",
       "    </tr>\n",
       "    <tr>\n",
       "      <th>75%</th>\n",
       "      <td>9.200000</td>\n",
       "      <td>0.640000</td>\n",
       "      <td>0.420000</td>\n",
       "      <td>2.600000</td>\n",
       "      <td>0.090000</td>\n",
       "      <td>21.000000</td>\n",
       "      <td>62.000000</td>\n",
       "      <td>0.997835</td>\n",
       "      <td>3.400000</td>\n",
       "      <td>0.730000</td>\n",
       "      <td>11.100000</td>\n",
       "      <td>6.000000</td>\n",
       "    </tr>\n",
       "    <tr>\n",
       "      <th>max</th>\n",
       "      <td>15.900000</td>\n",
       "      <td>1.580000</td>\n",
       "      <td>1.000000</td>\n",
       "      <td>15.500000</td>\n",
       "      <td>0.611000</td>\n",
       "      <td>72.000000</td>\n",
       "      <td>289.000000</td>\n",
       "      <td>1.003690</td>\n",
       "      <td>4.010000</td>\n",
       "      <td>2.000000</td>\n",
       "      <td>14.900000</td>\n",
       "      <td>8.000000</td>\n",
       "    </tr>\n",
       "  </tbody>\n",
       "</table>\n",
       "</div>"
      ],
      "text/plain": [
       "       fixed_acidity  volatile_acidity  citric_acid  residual_sugar  \\\n",
       "count    1599.000000       1599.000000  1599.000000     1599.000000   \n",
       "mean        8.319637          0.527821     0.270976        2.538806   \n",
       "std         1.741096          0.179060     0.194801        1.409928   \n",
       "min         4.600000          0.120000     0.000000        0.900000   \n",
       "25%         7.100000          0.390000     0.090000        1.900000   \n",
       "50%         7.900000          0.520000     0.260000        2.200000   \n",
       "75%         9.200000          0.640000     0.420000        2.600000   \n",
       "max        15.900000          1.580000     1.000000       15.500000   \n",
       "\n",
       "         chlorides  free_sulfur_dioxide  total_sulfur_dioxide      density  \\\n",
       "count  1599.000000          1599.000000           1599.000000  1599.000000   \n",
       "mean      0.087467            15.874922             46.467792     0.996747   \n",
       "std       0.047065            10.460157             32.895324     0.001887   \n",
       "min       0.012000             1.000000              6.000000     0.990070   \n",
       "25%       0.070000             7.000000             22.000000     0.995600   \n",
       "50%       0.079000            14.000000             38.000000     0.996750   \n",
       "75%       0.090000            21.000000             62.000000     0.997835   \n",
       "max       0.611000            72.000000            289.000000     1.003690   \n",
       "\n",
       "                pH    sulphates      alcohol      quality  \n",
       "count  1599.000000  1599.000000  1599.000000  1599.000000  \n",
       "mean      3.311113     0.658149    10.422983     5.636023  \n",
       "std       0.154386     0.169507     1.065668     0.807569  \n",
       "min       2.740000     0.330000     8.400000     3.000000  \n",
       "25%       3.210000     0.550000     9.500000     5.000000  \n",
       "50%       3.310000     0.620000    10.200000     6.000000  \n",
       "75%       3.400000     0.730000    11.100000     6.000000  \n",
       "max       4.010000     2.000000    14.900000     8.000000  "
      ]
     },
     "execution_count": 5,
     "metadata": {},
     "output_type": "execute_result"
    }
   ],
   "source": [
    "# Summary statistics\n",
    "df.describe()"
   ]
  },
  {
   "cell_type": "markdown",
   "id": "8c66f832-cbd2-4424-af50-5e551200010a",
   "metadata": {},
   "source": [
    "# Visualisation\n",
    "***"
   ]
  },
  {
   "cell_type": "code",
   "execution_count": null,
   "id": "c1b637fa-60ca-47ce-b424-eb74d4b85ad1",
   "metadata": {},
   "outputs": [],
   "source": [
    "# Scatterplots and kdes\n",
    "sns.pairplot(df, hue='quality');"
   ]
  },
  {
   "cell_type": "markdown",
   "id": "1e8a62bf-ce86-46b9-a46d-9e7b0f2730ec",
   "metadata": {},
   "source": [
    "# Two Dimensions\n",
    "***"
   ]
  },
  {
   "cell_type": "code",
   "execution_count": null,
   "id": "40a173a5-e307-4f72-b874-ccf602757dac",
   "metadata": {},
   "outputs": [],
   "source": [
    "# New figure\n",
    "fig, ax = plt.subplots()\n",
    "\n",
    "#scatter plot\n",
    "ax.plot(df['chlorides'], df['alcohol'],'.')\n",
    "\n",
    "# Set axis labels\n",
    "ax.set_xlabel('Chlorides');\n",
    "ax.set_ylabel('Alcohol');"
   ]
  },
  {
   "cell_type": "code",
   "execution_count": null,
   "id": "be8a463a-e5d6-4213-8dc7-8d11b8db8ab2",
   "metadata": {},
   "outputs": [],
   "source": [
    "#seaborn is great for creating complex plots with one command\n",
    "sns.lmplot(x=\"pH\", y=\"alcohol\", hue='quality', data=df, fit_reg=False, height = 10 , aspect= 1.5);"
   ]
  },
  {
   "cell_type": "markdown",
   "id": "adfaab67-e6bf-4c16-b9ff-9a7d3c05fab4",
   "metadata": {},
   "source": [
    "# Using pyplot\n",
    "***"
   ]
  },
  {
   "cell_type": "code",
   "execution_count": null,
   "id": "d5a82523-6919-435f-8ee3-8471abd599a7",
   "metadata": {},
   "outputs": [],
   "source": []
  },
  {
   "cell_type": "code",
   "execution_count": null,
   "id": "cc9e3277-d0f4-40d8-9a5f-496ec8f7df3f",
   "metadata": {},
   "outputs": [],
   "source": [
    "# Segregate the data\n",
    "quality3 = df[df['quality'] == 3]\n",
    "quality4 = df[df['quality'] == 4]\n",
    "quality5 = df[df['quality'] == 5]\n",
    "quality6 = df[df['quality'] == 6]\n",
    "quality7 = df[df['quality'] == 7]\n",
    "quality8 = df[df['quality'] == 8]\n",
    "\n",
    "# New PLot\n",
    "fig, ax = plt.subplots()\n",
    "\n",
    "# Scatter plots\n",
    "ax.scatter(quality3['alcohol'], quality3['pH'], label = 3)\n",
    "ax.scatter(quality4['alcohol'], quality4['pH'], label = 4)\n",
    "ax.scatter(quality5['alcohol'], quality5['pH'], label = 5)\n",
    "ax.scatter(quality6['alcohol'], quality6['pH'], label = 6)\n",
    "ax.scatter(quality7['alcohol'], quality7['pH'], label = 7)\n",
    "ax.scatter(quality8['alcohol'], quality8['pH'], label = 8)\n",
    "\n",
    "# Show the legend\n",
    "ax.set_xlabel('Alcohol')\n",
    "ax.set_ylabel('pH')\n",
    "ax.legend();\n"
   ]
  },
  {
   "cell_type": "code",
   "execution_count": null,
   "id": "dcb1a761-cc6c-44bc-a518-b440c413932f",
   "metadata": {},
   "outputs": [],
   "source": [
    "# How the segregation works.\n",
    "df['quality'] == 3"
   ]
  },
  {
   "cell_type": "code",
   "execution_count": null,
   "id": "9a102d76-4c8f-4a65-919e-e96cb9b543a7",
   "metadata": {},
   "outputs": [],
   "source": [
    "df[df['quality'] == 3].head()"
   ]
  },
  {
   "cell_type": "markdown",
   "id": "c79f46b3-68fa-4ce5-8e7d-1a14022484d4",
   "metadata": {},
   "source": [
    "# Using groupby()\n",
    "***"
   ]
  },
  {
   "cell_type": "code",
   "execution_count": null,
   "id": "b883634b-85de-4061-8246-493766ff5f0e",
   "metadata": {},
   "outputs": [],
   "source": [
    "# New Plot\n",
    "fig, ax = plt.subplots()\n",
    "\n",
    "#Using pandas groupby()\n",
    "for quality, data in df.groupby('quality'):\n",
    "    ax.scatter(data['alcohol'], data['pH'], label=quality)\n",
    "\n",
    "# Show the legend\n",
    "ax.set_xlabel('alcohol')\n",
    "ax.set_ylabel('pH')\n",
    "ax.legend();"
   ]
  },
  {
   "cell_type": "code",
   "execution_count": null,
   "id": "74282f36-417d-43b5-8ab2-64e5cbdac9aa",
   "metadata": {},
   "outputs": [],
   "source": [
    "# Group by typically takes a categorical variable\n",
    "x = df.groupby('quality')\n",
    "x"
   ]
  },
  {
   "cell_type": "code",
   "execution_count": null,
   "id": "7d592b2f-d204-4678-8240-2e9729be02b2",
   "metadata": {},
   "outputs": [],
   "source": [
    "x.mean()"
   ]
  },
  {
   "cell_type": "code",
   "execution_count": null,
   "id": "741f4901-b5b5-4b94-98d6-64dd272764b8",
   "metadata": {},
   "outputs": [],
   "source": [
    "# Looping through groupby()\n",
    "for i, j in x:\n",
    "    print()\n",
    "    print(f\"i is: '{i}'\")\n",
    "    print(f\"j looks like:\\n{j[:3]}\")\n",
    "    print()"
   ]
  },
  {
   "cell_type": "markdown",
   "id": "762c7df4-8262-4a48-a470-ed23d68ee4d6",
   "metadata": {},
   "source": [
    "# Test and Train Split#\n",
    "***"
   ]
  },
  {
   "cell_type": "code",
   "execution_count": null,
   "id": "de9eb6a6-b963-450c-a2b7-e4500ae42bbe",
   "metadata": {},
   "outputs": [],
   "source": [
    "# Split the data frame in two.\n",
    "train, test = mod.train_test_split(df)"
   ]
  },
  {
   "cell_type": "code",
   "execution_count": null,
   "id": "1b986b1f-31fa-4cc2-aa06-6808d8030b14",
   "metadata": {},
   "outputs": [],
   "source": [
    "# Show some training data.\n",
    "train.head()"
   ]
  },
  {
   "cell_type": "code",
   "execution_count": null,
   "id": "c688219d-5cc8-4a95-bbf3-102029b894d9",
   "metadata": {},
   "outputs": [],
   "source": [
    "# The indices of the train array\n",
    "train.index"
   ]
  },
  {
   "cell_type": "code",
   "execution_count": null,
   "id": "825dd322-7930-485d-bf41-f842db01515a",
   "metadata": {},
   "outputs": [],
   "source": [
    "test.index.size"
   ]
  },
  {
   "cell_type": "markdown",
   "id": "bef6fa83-06c5-401e-9caf-cfd41cc02d8f",
   "metadata": {},
   "source": [
    "# Two Dimensions: Test Train Split\n",
    "***"
   ]
  },
  {
   "cell_type": "code",
   "execution_count": null,
   "id": "36a10653-c4bb-490b-a07e-37c925fe00b3",
   "metadata": {},
   "outputs": [],
   "source": [
    "# Segregate the data\n",
    "quality3 = train[train['quality'] == 3]\n",
    "quality4 = train[train['quality'] == 4]\n",
    "quality5 = train[train['quality'] == 5]\n",
    "quality6 = train[train['quality'] == 6]\n",
    "quality7 = train[train['quality'] == 7]\n",
    "quality8 = train[train['quality'] == 8]\n",
    "\n",
    "# New PLot\n",
    "fig, ax = plt.subplots()\n",
    "\n",
    "# Scatter plots for training data\n",
    "ax.scatter(quality3['alcohol'], quality3['pH'], marker = 'o', label = 3)\n",
    "ax.scatter(quality4['alcohol'], quality4['pH'], marker = 'o', label = 4)\n",
    "ax.scatter(quality5['alcohol'], quality5['pH'], marker = 'o', label = 5)\n",
    "ax.scatter(quality6['alcohol'], quality6['pH'], marker = 'o', label = 6)\n",
    "ax.scatter(quality7['alcohol'], quality7['pH'], marker = 'o', label = 7)\n",
    "ax.scatter(quality8['alcohol'], quality8['pH'], marker = 'o', label = 8)\n",
    "\n",
    "#Scatter plot for testing data\n",
    "ax.scatter(test['alcohol'], test['pH'], marker='x', label = 'Test data')\n",
    "\n",
    "# Show the legend\n",
    "ax.set_xlabel('Alcohol')\n",
    "ax.set_ylabel('pH')\n",
    "ax.legend();"
   ]
  },
  {
   "cell_type": "markdown",
   "id": "f973b257-3fc6-4c6a-abd9-3c03c02c31b2",
   "metadata": {},
   "source": [
    "# Two Dimensions: Inputs and Outputs\n",
    "***"
   ]
  },
  {
   "cell_type": "code",
   "execution_count": null,
   "id": "e39a20b0-db65-4c75-b68f-e71a5f4c5178",
   "metadata": {},
   "outputs": [],
   "source": [
    "# Give the inputs and outputs convenient names\n",
    "inputs, outputs = train[['alcohol','pH']], train['quality']"
   ]
  },
  {
   "cell_type": "code",
   "execution_count": null,
   "id": "0d0f6e74-90db-4b4d-99ed-51170a6af01d",
   "metadata": {},
   "outputs": [],
   "source": [
    "# Peek at the inputs\n",
    "inputs.head()"
   ]
  },
  {
   "cell_type": "code",
   "execution_count": null,
   "id": "4b555d65-8864-46bd-a8e6-7a6a061b3b38",
   "metadata": {},
   "outputs": [],
   "source": [
    "# Peek at the outputs\n",
    "outputs.head()"
   ]
  },
  {
   "cell_type": "markdown",
   "id": "5cfe275e-7746-4998-8b70-dc3e259e18ee",
   "metadata": {},
   "source": [
    "# Two Dimensions: Logistic regression\n",
    "https://scikit-learn.org/stable/modules/generated/sklearn.linear_model.LogisticRegression.html\n",
    "***"
   ]
  },
  {
   "cell_type": "code",
   "execution_count": null,
   "id": "0832f4e3-1faa-4666-8aeb-125d063bfafa",
   "metadata": {},
   "outputs": [],
   "source": [
    "# Create a new classifier\n",
    "lre = lm.LogisticRegression(random_state=0)\n",
    "\n",
    "# Train the classifier on our data\n",
    "lre.fit(inputs, outputs)"
   ]
  },
  {
   "cell_type": "code",
   "execution_count": null,
   "id": "afe167bd-9a51-4bdd-b936-4e6a0ca7a945",
   "metadata": {},
   "outputs": [],
   "source": [
    "# Ask the classifier to classify the test data\n",
    "predictions = lre.predict(test[['alcohol','pH']])\n",
    "predictions"
   ]
  },
  {
   "cell_type": "code",
   "execution_count": null,
   "id": "0e4d6cac-3093-4747-a192-a07568a07d35",
   "metadata": {},
   "outputs": [],
   "source": [
    "predictions == test['quality']"
   ]
  },
  {
   "cell_type": "code",
   "execution_count": null,
   "id": "14732eb8-1a83-4cf9-b887-623f8366218a",
   "metadata": {},
   "outputs": [],
   "source": [
    "lre.score(test[['alcohol','pH']], test['quality'])"
   ]
  },
  {
   "cell_type": "markdown",
   "id": "b52d72b5-2355-4f75-a7d7-45c67d5857cc",
   "metadata": {},
   "source": [
    "# Two Dimensions: Misclassified\n",
    "***"
   ]
  },
  {
   "cell_type": "code",
   "execution_count": null,
   "id": "f2532b1d-3937-440c-9e05-9c8b8d222f7c",
   "metadata": {},
   "outputs": [],
   "source": [
    "# Append a column to the test data frame with the predictions.\n",
    "test['predicted'] = predictions\n",
    "test.head()"
   ]
  },
  {
   "cell_type": "code",
   "execution_count": null,
   "id": "f85f364c-f725-4030-8fe0-5c3a7741ab72",
   "metadata": {},
   "outputs": [],
   "source": [
    "# Show the misclassified data.\n",
    "misclass = test[test['predicted'] != test['quality']]\n",
    "misclass"
   ]
  },
  {
   "cell_type": "code",
   "execution_count": null,
   "id": "ce6dfcae-553c-4aec-9cb9-6f19e98c250d",
   "metadata": {},
   "outputs": [],
   "source": [
    "# Eyeball the descriptive statistics for the species.\n",
    "train.groupby('quality').mean()"
   ]
  },
  {
   "cell_type": "code",
   "execution_count": null,
   "id": "e6fadc30-3615-42f8-8c6e-e79d584a7fd2",
   "metadata": {},
   "outputs": [],
   "source": [
    "# New plot.\n",
    "fig, ax = plt.subplots()\n",
    "\n",
    "# Plot the training data\n",
    "for quality, data in df.groupby('quality'):\n",
    "    ax.scatter(data['alcohol'], data['pH'], label=quality)\n",
    "    \n",
    "# Plot misclassified.\n",
    "ax.scatter(misclass['alcohol'], misclass['pH'], s=200, facecolor='none', edgecolor='r', label='Misclassified')\n",
    "\n",
    "# Show the legend.\n",
    "ax.set_xlabel('Alcohol')\n",
    "ax.set_ylabel('pH')\n",
    "ax.legend();"
   ]
  },
  {
   "cell_type": "markdown",
   "id": "2adb774f-4d7c-4df7-a5d1-f227776f8b8a",
   "metadata": {},
   "source": [
    "# Using all Possible Inputs\n",
    "https://scikit-learn.org/stable/modules/generated/sklearn.linear_model.LogisticRegression.html\n",
    "***"
   ]
  },
  {
   "cell_type": "code",
   "execution_count": null,
   "id": "5ca043f0-8873-4b17-af63-08931927003c",
   "metadata": {},
   "outputs": [],
   "source": [
    "# Load in the red wine data from the url\n",
    "df = pd.read_csv(\"https://raw.githubusercontent.com/John-Dubber/EmergingTechnologiesAssessment/main/winequality/winequality-red.csv\")"
   ]
  },
  {
   "cell_type": "code",
   "execution_count": null,
   "id": "26bd2528-2957-44d0-aa79-4f2450faa81e",
   "metadata": {},
   "outputs": [],
   "source": [
    "# Split the data frame in two\n",
    "train, test = mod.train_test_split(df)"
   ]
  },
  {
   "cell_type": "code",
   "execution_count": null,
   "id": "4c5bba9b-7414-458e-89b9-ccd79d3ba2be",
   "metadata": {},
   "outputs": [],
   "source": [
    "# Use all possible inputs\n",
    "inputs, outputs = train[['fixed_acidity','volatile_acidity','citric_acid','residual_sugar','chlorides','free_sulfur_dioxide','density','pH','sulphates','alcohol']], train['quality']"
   ]
  },
  {
   "cell_type": "code",
   "execution_count": null,
   "id": "c1b01e01-0cb0-4253-9dbb-b4519b5a27a4",
   "metadata": {},
   "outputs": [],
   "source": [
    "# Create a new classifier\n",
    "lre = lm.LogisticRegression(random_state=0)\n",
    "\n",
    "# Train the classifier on the red wine data\n",
    "lre.fit(inputs, outputs)"
   ]
  },
  {
   "cell_type": "code",
   "execution_count": null,
   "id": "ebb39c88-2c44-4baf-854e-b23201af83b2",
   "metadata": {},
   "outputs": [],
   "source": [
    "# Ask the classifier to classify the test data\n",
    "predictions = lre.predict(test[['fixed_acidity','volatile_acidity','citric_acid','residual_sugar','chlorides','free_sulfur_dioxide','density','pH','sulphates','alcohol']])\n",
    "predictions"
   ]
  },
  {
   "cell_type": "code",
   "execution_count": null,
   "id": "c7f01fc1-3780-4ceb-b062-1a57a0a206be",
   "metadata": {},
   "outputs": [],
   "source": [
    "# Eyeball the misclassifications\n",
    "(predictions == test['quality']).value_counts()"
   ]
  },
  {
   "cell_type": "code",
   "execution_count": null,
   "id": "60bc6bb8-cb69-406c-aece-a141048aa75a",
   "metadata": {},
   "outputs": [],
   "source": [
    "# What proportion were correct?\n",
    "lre.score(test[['fixed_acidity','volatile_acidity','citric_acid','residual_sugar','chlorides','free_sulfur_dioxide','density','pH','sulphates','alcohol']],test['quality'])"
   ]
  },
  {
   "cell_type": "markdown",
   "id": "897df127-68d4-4b81-97fa-187778557827",
   "metadata": {},
   "source": [
    "# K Nearest Neighbours Classifier\n",
    "https://scikit-learn.org/stable/modules/generated/sklearn.neighbors.KNeighborsClassifier.html\n",
    "***"
   ]
  },
  {
   "cell_type": "code",
   "execution_count": null,
   "id": "f71ac5ee-e93e-4a7a-995d-41a071877378",
   "metadata": {},
   "outputs": [],
   "source": [
    "# Load in the red wine data from the url\n",
    "df = pd.read_csv(\"https://raw.githubusercontent.com/John-Dubber/EmergingTechnologiesAssessment/main/winequality/winequality-red.csv\")"
   ]
  },
  {
   "cell_type": "code",
   "execution_count": null,
   "id": "101bf2f2-7487-40a0-ba88-69e430261af3",
   "metadata": {},
   "outputs": [],
   "source": [
    "# Split the data frame in two\n",
    "train, test = mod.train_test_split(df)"
   ]
  },
  {
   "cell_type": "code",
   "execution_count": null,
   "id": "4f07ca5d-5c31-467a-ab2b-027f73b6246c",
   "metadata": {},
   "outputs": [],
   "source": [
    "# Use all possible inputs\n",
    "inputs, outputs = train[['fixed_acidity','volatile_acidity','citric_acid','residual_sugar','chlorides','free_sulfur_dioxide','density','pH','sulphates','alcohol']], train['quality']"
   ]
  },
  {
   "cell_type": "code",
   "execution_count": null,
   "id": "081641b5-7d1a-4f2f-8b40-f4ccf0d3236f",
   "metadata": {},
   "outputs": [],
   "source": [
    "# Classifier\n",
    "knn = nei.KNeighborsClassifier()"
   ]
  },
  {
   "cell_type": "code",
   "execution_count": null,
   "id": "f7670d03-3aaa-4010-a316-fce84d2462d3",
   "metadata": {},
   "outputs": [],
   "source": [
    "# Fit\n",
    "knn.fit(inputs, outputs)"
   ]
  },
  {
   "cell_type": "code",
   "execution_count": null,
   "id": "1014a0b4-64cd-44ee-8048-535bb1029c61",
   "metadata": {},
   "outputs": [],
   "source": [
    "# Test\n",
    "knn.score(test[['fixed_acidity','volatile_acidity','citric_acid','residual_sugar','chlorides','free_sulfur_dioxide','density','pH','sulphates','alcohol']], test['quality'])"
   ]
  },
  {
   "cell_type": "code",
   "execution_count": null,
   "id": "2e92ff90-b3db-46a4-bddc-a624a469dae0",
   "metadata": {},
   "outputs": [],
   "source": [
    "# Predict.\n",
    "predictions = lre.predict(test[['fixed_acidity','volatile_acidity','citric_acid','residual_sugar','chlorides','free_sulfur_dioxide','density','pH','sulphates','alcohol']])\n",
    "(predictions == test['quality']).value_counts()"
   ]
  },
  {
   "cell_type": "code",
   "execution_count": null,
   "id": "e9effe3f-4730-445e-8ebf-54ed21f340b4",
   "metadata": {},
   "outputs": [],
   "source": [
    "# The score is just the accuracy in this case\n",
    "(predictions == test['quality']).value_counts(normalize=True)"
   ]
  },
  {
   "cell_type": "markdown",
   "id": "94e57a65-75dd-409b-9cc8-99dac22cd07a",
   "metadata": {},
   "source": [
    "# Conclusion\n",
    "***"
   ]
  },
  {
   "cell_type": "markdown",
   "id": "b4f0fe9c-e457-4f42-bfb9-19cf7368cc50",
   "metadata": {},
   "source": [
    "I believe that there are other factors at play interfering with the data to cause such deviation.\n",
    "Perhaps it is because quality in this case is a preceved quality and is not scientifically measurable.\n",
    "The other is that further data is required to improve the accuracy. Considering the number of factors at play and range of qualities a 60% accuracy is probably better than I can tell wine quality apart"
   ]
  },
  {
   "cell_type": "markdown",
   "id": "52a8c11e-64b6-4935-a61b-bb11224292c8",
   "metadata": {
    "tags": []
   },
   "source": [
    "***\n",
    "# End"
   ]
  },
  {
   "cell_type": "code",
   "execution_count": null,
   "id": "2e613072-468a-47a1-80fc-d9f20346b54e",
   "metadata": {},
   "outputs": [],
   "source": []
  }
 ],
 "metadata": {
  "kernelspec": {
   "display_name": "Python 3 (ipykernel)",
   "language": "python",
   "name": "python3"
  },
  "language_info": {
   "codemirror_mode": {
    "name": "ipython",
    "version": 3
   },
   "file_extension": ".py",
   "mimetype": "text/x-python",
   "name": "python",
   "nbconvert_exporter": "python",
   "pygments_lexer": "ipython3",
   "version": "3.9.7"
  }
 },
 "nbformat": 4,
 "nbformat_minor": 5
}
