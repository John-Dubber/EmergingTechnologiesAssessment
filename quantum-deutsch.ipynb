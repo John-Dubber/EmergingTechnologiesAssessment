{
 "cells": [
  {
   "cell_type": "markdown",
   "id": "421a45cf-2c91-4a2e-868f-dbf1bd2f0049",
   "metadata": {},
   "source": [
    "# Comparison Between quantum computing and classical computing\n",
    "In essence classical computing normally operates on bits, 1's and 0's or definite values, however in quantum computing you can have a range of numbers between 1 and 0. For most everyday computation classical computer's can generally outperform quantum computers however for some certain computations, it has proven to be faster than classical computers in solving.\n",
    "***"
   ]
  },
  {
   "cell_type": "markdown",
   "id": "5f4f934f-362d-4429-90e1-ac56ef9d4cf3",
   "metadata": {
    "jp-MarkdownHeadingCollapsed": true,
    "tags": []
   },
   "source": [
    "# Balanced or Constant Functions\n",
    "***"
   ]
  },
  {
   "cell_type": "code",
   "execution_count": 1,
   "id": "a12ef3d3-5025-4c2b-b7f7-4229b89cdf37",
   "metadata": {},
   "outputs": [],
   "source": [
    "# Random selections\n",
    "import random\n",
    "\n",
    "# Permutations and combinations\n",
    "import itertools"
   ]
  },
  {
   "cell_type": "markdown",
   "id": "46e34425-234d-4117-a667-5c8dc6b105ce",
   "metadata": {
    "tags": []
   },
   "source": [
    "## One bit inputs\n",
    "$x$ is a bit.\n",
    "It's possible values are 0 and 1."
   ]
  },
  {
   "cell_type": "code",
   "execution_count": 2,
   "id": "f9db34f1-e01b-4e31-90e1-df8b507f22a3",
   "metadata": {},
   "outputs": [],
   "source": [
    "# Constant function\n",
    "def f_a(x):\n",
    "    return 1"
   ]
  },
  {
   "cell_type": "code",
   "execution_count": 3,
   "id": "4479bea6-f494-4965-b023-7410fc07471f",
   "metadata": {},
   "outputs": [
    {
     "data": {
      "text/plain": [
       "1"
      ]
     },
     "execution_count": 3,
     "metadata": {},
     "output_type": "execute_result"
    }
   ],
   "source": [
    "f_a(0)"
   ]
  },
  {
   "cell_type": "code",
   "execution_count": 4,
   "id": "4bf46cca-783d-4231-b9a2-b4318effc245",
   "metadata": {},
   "outputs": [
    {
     "data": {
      "text/plain": [
       "1"
      ]
     },
     "execution_count": 4,
     "metadata": {},
     "output_type": "execute_result"
    }
   ],
   "source": [
    "f_a(1)"
   ]
  },
  {
   "cell_type": "code",
   "execution_count": 5,
   "id": "0444b583-bfb3-4169-b806-f069c742dd87",
   "metadata": {},
   "outputs": [],
   "source": [
    "# Constant function\n",
    "def f_b(x):\n",
    "    return 0"
   ]
  },
  {
   "cell_type": "code",
   "execution_count": 6,
   "id": "53eb8149-6a69-4539-b530-f2d95cb0eadd",
   "metadata": {},
   "outputs": [
    {
     "data": {
      "text/plain": [
       "0"
      ]
     },
     "execution_count": 6,
     "metadata": {},
     "output_type": "execute_result"
    }
   ],
   "source": [
    "f_b(0)"
   ]
  },
  {
   "cell_type": "code",
   "execution_count": 7,
   "id": "d1d889d1-4f5f-41f1-aa48-1a80eb04ed84",
   "metadata": {},
   "outputs": [
    {
     "data": {
      "text/plain": [
       "0"
      ]
     },
     "execution_count": 7,
     "metadata": {},
     "output_type": "execute_result"
    }
   ],
   "source": [
    "f_b(1)"
   ]
  },
  {
   "cell_type": "code",
   "execution_count": 8,
   "id": "6ffb59f6-73b6-45ef-80fd-799f69e5b344",
   "metadata": {},
   "outputs": [],
   "source": [
    "# Balanced function\n",
    "def f_c(x):\n",
    "    return x"
   ]
  },
  {
   "cell_type": "code",
   "execution_count": 9,
   "id": "0a7d1cf2-00b4-4540-ab72-6fd71e0a08cc",
   "metadata": {},
   "outputs": [
    {
     "data": {
      "text/plain": [
       "0"
      ]
     },
     "execution_count": 9,
     "metadata": {},
     "output_type": "execute_result"
    }
   ],
   "source": [
    "f_c(0)"
   ]
  },
  {
   "cell_type": "code",
   "execution_count": 10,
   "id": "f9f74d9a-fa44-4a03-9bca-9aaacb9902b0",
   "metadata": {},
   "outputs": [
    {
     "data": {
      "text/plain": [
       "1"
      ]
     },
     "execution_count": 10,
     "metadata": {},
     "output_type": "execute_result"
    }
   ],
   "source": [
    "f_c(1)"
   ]
  },
  {
   "cell_type": "code",
   "execution_count": 11,
   "id": "8956cf80-7973-42b9-b995-2912cde4988b",
   "metadata": {},
   "outputs": [],
   "source": [
    "# Balanced function\n",
    "def f_d(x):\n",
    "    return((x+1)%2)"
   ]
  },
  {
   "cell_type": "code",
   "execution_count": 12,
   "id": "88d82b87-da9a-4ab0-beb1-4509f39a7d30",
   "metadata": {},
   "outputs": [
    {
     "data": {
      "text/plain": [
       "1"
      ]
     },
     "execution_count": 12,
     "metadata": {},
     "output_type": "execute_result"
    }
   ],
   "source": [
    "f_d(0)"
   ]
  },
  {
   "cell_type": "code",
   "execution_count": 13,
   "id": "9ee5b805-177f-443f-ae79-7fc4d04cf838",
   "metadata": {},
   "outputs": [
    {
     "data": {
      "text/plain": [
       "0"
      ]
     },
     "execution_count": 13,
     "metadata": {},
     "output_type": "execute_result"
    }
   ],
   "source": [
    "f_d(1)"
   ]
  },
  {
   "cell_type": "markdown",
   "id": "e9436441-3109-4ced-8df8-2b4c952d1092",
   "metadata": {},
   "source": [
    "|  x  | f_a(x) | f_b(x) | f_c(x) | f_d(x) |\n",
    "|-----|--------|--------|--------|--------|\n",
    "|**0**|1|0|0|1|\n",
    "|**1**|1|0|1|0|"
   ]
  },
  {
   "cell_type": "markdown",
   "id": "6a195657-131c-405a-bb9d-8c4bfa2497f7",
   "metadata": {},
   "source": [
    "<br>\n",
    "\n",
    "### Pick one of the functions at random\n",
    "***"
   ]
  },
  {
   "cell_type": "code",
   "execution_count": 14,
   "id": "00fb1c8a-c5fd-4766-bcf3-52f87174cca4",
   "metadata": {},
   "outputs": [],
   "source": [
    "# Put the functions into a list\n",
    "funcs = [f_a, f_b, f_c, f_d]"
   ]
  },
  {
   "cell_type": "code",
   "execution_count": 15,
   "id": "3136cc7b-754b-49c6-9172-3e1d28f78f43",
   "metadata": {},
   "outputs": [
    {
     "data": {
      "text/plain": [
       "<function __main__.f_b(x)>"
      ]
     },
     "execution_count": 15,
     "metadata": {},
     "output_type": "execute_result"
    }
   ],
   "source": [
    "# Select a function from the list at random\n",
    "random.choice(funcs)"
   ]
  },
  {
   "cell_type": "code",
   "execution_count": 16,
   "id": "0e0ca9d3-25a8-4bd2-b469-c2a21564af71",
   "metadata": {},
   "outputs": [],
   "source": [
    "f = random.choice(funcs)"
   ]
  },
  {
   "cell_type": "markdown",
   "id": "bc140a1c-8cc2-46c5-af6d-d2638007e5b4",
   "metadata": {},
   "source": [
    "### Test for balanced or constant\n",
    "***"
   ]
  },
  {
   "cell_type": "code",
   "execution_count": 17,
   "id": "9fe509d6-e3c4-4828-b476-ad12b2f4f440",
   "metadata": {},
   "outputs": [
    {
     "data": {
      "text/plain": [
       "1"
      ]
     },
     "execution_count": 17,
     "metadata": {},
     "output_type": "execute_result"
    }
   ],
   "source": [
    "f(0)"
   ]
  },
  {
   "cell_type": "code",
   "execution_count": 18,
   "id": "b3e1c96f-1a0a-4e6e-a7ff-beebefe5cdd9",
   "metadata": {},
   "outputs": [
    {
     "data": {
      "text/plain": [
       "0"
      ]
     },
     "execution_count": 18,
     "metadata": {},
     "output_type": "execute_result"
    }
   ],
   "source": [
    "f(1)"
   ]
  },
  {
   "cell_type": "markdown",
   "id": "54b15368-f1c7-44b3-b555-9446ba966176",
   "metadata": {},
   "source": [
    "We had to check two inputs to determine whether the function was balanced or constant"
   ]
  },
  {
   "cell_type": "markdown",
   "id": "5b506ac6-5091-4959-9262-976bd338490b",
   "metadata": {},
   "source": [
    "<br>\n",
    "\n",
    "## Two bits\n",
    "***"
   ]
  },
  {
   "cell_type": "markdown",
   "id": "1ebec02e-7367-496a-b00b-765ca3e8cc9d",
   "metadata": {},
   "source": [
    "|  x1 |  x2  | f | f | f | f | f | f | f | f | f | f | f | f | f | f | f | f |\n",
    "|-----|------|---|---|---|---|---|---|---|---|---|---|---|---|---|---|---|---|\n",
    "|**0**|**0**|0|0|0|0|0|0|0|0|1|1|1|1|1|1|1|1|\n",
    "|**0**|**1**|0|0|0|0|1|1|1|1|0|0|0|0|1|1|1|1|\n",
    "|**1**|**0**|0|0|1|1|0|0|1|1|0|0|1|1|0|0|1|1|\n",
    "|**1**|**1**|0|1|0|1|0|1|0|1|0|1|0|1|0|1|0|1|"
   ]
  },
  {
   "cell_type": "code",
   "execution_count": 19,
   "id": "3478371f-41bf-4845-a1ea-bdb4d1766302",
   "metadata": {},
   "outputs": [],
   "source": [
    "# Number of input bits\n",
    "n=2"
   ]
  },
  {
   "cell_type": "code",
   "execution_count": 20,
   "id": "59f27204-d925-437d-ae51-7dcc3bb99b1a",
   "metadata": {},
   "outputs": [
    {
     "data": {
      "text/plain": [
       "[0, 0, 0, 0]"
      ]
     },
     "execution_count": 20,
     "metadata": {},
     "output_type": "execute_result"
    }
   ],
   "source": [
    "# The zeros constant function\n",
    "[0] * 2 **n"
   ]
  },
  {
   "cell_type": "code",
   "execution_count": 21,
   "id": "12d915f6-1818-421f-a6d8-2774b1244e52",
   "metadata": {},
   "outputs": [
    {
     "data": {
      "text/plain": [
       "[1, 1, 1, 1]"
      ]
     },
     "execution_count": 21,
     "metadata": {},
     "output_type": "execute_result"
    }
   ],
   "source": [
    "# The ones constant function\n",
    "[1] * 2 **n"
   ]
  },
  {
   "cell_type": "code",
   "execution_count": 22,
   "id": "d77f5414-8dbe-4eb7-8f16-a786ad230c0a",
   "metadata": {},
   "outputs": [
    {
     "data": {
      "text/plain": [
       "[[1, 1, 0, 0],\n",
       " [1, 0, 1, 0],\n",
       " [1, 0, 0, 1],\n",
       " [0, 1, 1, 0],\n",
       " [0, 1, 0, 1],\n",
       " [0, 0, 1, 1]]"
      ]
     },
     "execution_count": 22,
     "metadata": {},
     "output_type": "execute_result"
    }
   ],
   "source": [
    "# Generate the balanced functions\n",
    "# adapted from https://stackoverflow.com/a/43817007\n",
    "def balanced_functions(noinbits):\n",
    "    # The length of the list is 2 to power of noinputbits\n",
    "    size = 2 ** noinbits\n",
    "    # The number of ones is half the length of that list\n",
    "    count = size // 2\n",
    "    # Generate all positions for 1's\n",
    "    for positions in itertools.combinations(range(size), count):\n",
    "        # Create a list of zeros\n",
    "        p = [0] * size\n",
    "        # Set positions to 1's\n",
    "        for i in positions:\n",
    "            p[i] = 1\n",
    "        # Generate the list\n",
    "        yield p\n",
    "list(balanced_functions(2))"
   ]
  },
  {
   "cell_type": "code",
   "execution_count": 23,
   "id": "a0f54e52-1faa-466d-99d6-4d96c58db6be",
   "metadata": {},
   "outputs": [],
   "source": [
    "# Generate all the constant and balanced functions\n",
    "def generate_functions(n):\n",
    "    return list(balanced_functions(n))+[[0] * 2 **n,[1] * 2 **n]"
   ]
  },
  {
   "cell_type": "code",
   "execution_count": 24,
   "id": "6e8778de-a061-485e-bb88-0cc89de7729f",
   "metadata": {},
   "outputs": [
    {
     "data": {
      "text/plain": [
       "[[1, 1, 0, 0],\n",
       " [1, 0, 1, 0],\n",
       " [1, 0, 0, 1],\n",
       " [0, 1, 1, 0],\n",
       " [0, 1, 0, 1],\n",
       " [0, 0, 1, 1],\n",
       " [0, 0, 0, 0],\n",
       " [1, 1, 1, 1]]"
      ]
     },
     "execution_count": 24,
     "metadata": {},
     "output_type": "execute_result"
    }
   ],
   "source": [
    "# Generate all functions\n",
    "generate_functions(n)"
   ]
  },
  {
   "cell_type": "code",
   "execution_count": 25,
   "id": "c7981a25-5fb1-4f26-abc9-d5a092171829",
   "metadata": {},
   "outputs": [],
   "source": [
    "def randomf(n):\n",
    "    # Generate all balanced and constant functions\n",
    "    funcs = generate_functions(n)\n",
    "    # Return a random function\n",
    "    return random.choice(funcs)"
   ]
  },
  {
   "cell_type": "code",
   "execution_count": 26,
   "id": "1192d1bb-7319-4d8a-87ab-d2e2189dfc39",
   "metadata": {},
   "outputs": [],
   "source": [
    "# Call randomf for two input bits\n",
    "f = randomf(2)"
   ]
  },
  {
   "cell_type": "code",
   "execution_count": 27,
   "id": "bbce2cf4-7799-4d88-9578-bb6d4e732315",
   "metadata": {},
   "outputs": [
    {
     "data": {
      "text/plain": [
       "[1, 0, 1, 0]"
      ]
     },
     "execution_count": 27,
     "metadata": {},
     "output_type": "execute_result"
    }
   ],
   "source": [
    "# It's just a list for now\n",
    "f"
   ]
  },
  {
   "cell_type": "code",
   "execution_count": 28,
   "id": "05cc30bf-87cb-4a1f-b102-ef4746cd9486",
   "metadata": {},
   "outputs": [],
   "source": [
    "# Let's make it a function\n",
    "def randomf(n):\n",
    "    # Get all balanced and constant functions as lists\n",
    "    funcs = generate_functions(n)\n",
    "    # Pick one at random\n",
    "    retvals = random.choice(funcs)\n",
    "    # Create a function from the list\n",
    "    def f(*x):\n",
    "        # Reverse the bits\n",
    "        x = x[::-1]\n",
    "        # Running total for position in list for output bit\n",
    "        retpos = 0\n",
    "        # Loop through the elements in x(reversed)\n",
    "        for i in range(len(x)):\n",
    "            # Multiply i pos of x by 2 ^ i\n",
    "            retpos = retpos + (x[i] * (2**i))\n",
    "        # List position\n",
    "        return retvals[retpos]\n",
    "    # Function returns a function\n",
    "    return f"
   ]
  },
  {
   "cell_type": "code",
   "execution_count": 29,
   "id": "74f54d2a-43d9-40cf-92c5-ce514b381d3f",
   "metadata": {},
   "outputs": [
    {
     "data": {
      "text/plain": [
       "<function __main__.randomf.<locals>.f(*x)>"
      ]
     },
     "execution_count": 29,
     "metadata": {},
     "output_type": "execute_result"
    }
   ],
   "source": [
    "# Get a random function that takes two bits as input\n",
    "randomf(2)"
   ]
  },
  {
   "cell_type": "code",
   "execution_count": 30,
   "id": "d4a90a11-7a1c-43e6-b4b5-0b7dd221622a",
   "metadata": {},
   "outputs": [],
   "source": [
    "# Get a random function that takes two bits as input\n",
    "f = randomf(2)"
   ]
  },
  {
   "cell_type": "code",
   "execution_count": 31,
   "id": "115b419f-5af7-439c-9769-cf5921eb0c76",
   "metadata": {},
   "outputs": [
    {
     "data": {
      "text/plain": [
       "0"
      ]
     },
     "execution_count": 31,
     "metadata": {},
     "output_type": "execute_result"
    }
   ],
   "source": [
    "# Sample calls\n",
    "f(1,1)"
   ]
  },
  {
   "cell_type": "code",
   "execution_count": 32,
   "id": "23cca21f-f488-4b14-babe-13e2a92bf15b",
   "metadata": {},
   "outputs": [
    {
     "data": {
      "text/plain": [
       "0"
      ]
     },
     "execution_count": 32,
     "metadata": {},
     "output_type": "execute_result"
    }
   ],
   "source": [
    "# Sample calls\n",
    "f(0,1)"
   ]
  },
  {
   "cell_type": "markdown",
   "id": "aaff1408-a841-4169-a111-d709bdea3d40",
   "metadata": {},
   "source": [
    "<br>\n",
    "\n",
    "## Classical Algorithm\n",
    "***"
   ]
  },
  {
   "cell_type": "code",
   "execution_count": 33,
   "id": "bbb06bca-9201-439b-ad40-be5e2de76641",
   "metadata": {},
   "outputs": [],
   "source": [
    "# Number of input bits\n",
    "n = 2"
   ]
  },
  {
   "cell_type": "code",
   "execution_count": 34,
   "id": "0908e396-3945-4dcf-8f05-4c3162ec0991",
   "metadata": {},
   "outputs": [],
   "source": [
    "#Generate a random constant or balanced function\n",
    "#with n input bits\n",
    "f = randomf(n)"
   ]
  },
  {
   "cell_type": "code",
   "execution_count": 35,
   "id": "7bd9d840-d671-4a50-a8c2-3141832aaa97",
   "metadata": {},
   "outputs": [
    {
     "data": {
      "text/plain": [
       "[(0, 0), (0, 1), (1, 0), (1, 1)]"
      ]
     },
     "execution_count": 35,
     "metadata": {},
     "output_type": "execute_result"
    }
   ],
   "source": [
    "# Adapted from: https://stackoverflow.com/a/35313967\n",
    "list(itertools.product(*[(0,1)] *n))"
   ]
  },
  {
   "cell_type": "code",
   "execution_count": 36,
   "id": "76a2b9ec-27b1-4874-a93e-0ef0ae8920ec",
   "metadata": {},
   "outputs": [],
   "source": [
    "def balanced_or_constant(f , n):\n",
    "    # Presume f is constant\n",
    "    constant = True\n",
    "    #Last returned value\n",
    "    last = None\n",
    "    # Keep track of number of iterations\n",
    "    i = 0\n",
    "    # Loop through all possible inputs\n",
    "    for inputs in itertools.product(*[(0,1)] *n):\n",
    "        # Try this input on f\n",
    "        current = f(*inputs)\n",
    "        # Print a debug message\n",
    "        print(f\"Trying{inputs} Return: {current} Last: {last}\")\n",
    "        # Compare last to current\n",
    "        if last is not None and current != last:\n",
    "            # Tell the user f is balanced\n",
    "            constant = False\n",
    "            break\n",
    "        last = current\n",
    "        # Increment the iteration count\n",
    "        i = i + 1\n",
    "        # Have we performed 2**(n-1)+1 iterations\n",
    "        if i > (2**(n-1)):\n",
    "            break\n",
    "    if constant:\n",
    "        print(\"Constant\")\n",
    "    else:\n",
    "        print(\"Balanced\")"
   ]
  },
  {
   "cell_type": "code",
   "execution_count": 37,
   "id": "1ff3474d-33bc-4c83-bdb5-4bae9e417f0a",
   "metadata": {},
   "outputs": [
    {
     "name": "stdout",
     "output_type": "stream",
     "text": [
      "Trying(0, 0) Return: 1 Last: None\n",
      "Trying(0, 1) Return: 0 Last: 1\n",
      "Balanced\n"
     ]
    }
   ],
   "source": [
    "balanced_or_constant(f,n)"
   ]
  },
  {
   "cell_type": "markdown",
   "id": "70ffc670-f11d-4a0e-905b-42bd6766c0d6",
   "metadata": {},
   "source": [
    "<br>\n",
    "\n",
    "## More than two bits\n",
    "***"
   ]
  },
  {
   "cell_type": "code",
   "execution_count": 41,
   "id": "7a956044-f85d-4867-b561-54744b6a56cb",
   "metadata": {},
   "outputs": [],
   "source": [
    "# Four input bits\n",
    "# will work for more but may take significant strain on pc\n",
    "n = 4"
   ]
  },
  {
   "cell_type": "code",
   "execution_count": 42,
   "id": "be54a70e-2b5d-46e1-a809-d002f16620b9",
   "metadata": {},
   "outputs": [],
   "source": [
    "# Generate random function\n",
    "f = randomf(n)"
   ]
  },
  {
   "cell_type": "code",
   "execution_count": 43,
   "id": "041268a9-1bf6-4e87-a56b-9ceff0693f49",
   "metadata": {},
   "outputs": [
    {
     "name": "stdout",
     "output_type": "stream",
     "text": [
      "Trying(0, 0, 0, 0) Return: 1 Last: None\n",
      "Trying(0, 0, 0, 1) Return: 1 Last: 1\n",
      "Trying(0, 0, 1, 0) Return: 0 Last: 1\n",
      "Balanced\n"
     ]
    }
   ],
   "source": [
    "# Test if balanced\n",
    "balanced_or_constant(f,n)"
   ]
  },
  {
   "cell_type": "markdown",
   "id": "fab8fbee-2713-4823-b634-fa1189b620cc",
   "metadata": {
    "tags": []
   },
   "source": [
    "***\n",
    "# End"
   ]
  }
 ],
 "metadata": {
  "kernelspec": {
   "display_name": "Python 3 (ipykernel)",
   "language": "python",
   "name": "python3"
  },
  "language_info": {
   "codemirror_mode": {
    "name": "ipython",
    "version": 3
   },
   "file_extension": ".py",
   "mimetype": "text/x-python",
   "name": "python",
   "nbconvert_exporter": "python",
   "pygments_lexer": "ipython3",
   "version": "3.9.7"
  }
 },
 "nbformat": 4,
 "nbformat_minor": 5
}
